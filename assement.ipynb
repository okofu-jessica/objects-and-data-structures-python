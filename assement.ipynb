{
 "cells": [
  {
   "cell_type": "markdown",
   "metadata": {
    "deletable": false,
    "editable": false,
    "nbgrader": {
     "cell_type": "markdown",
     "checksum": "886c0ca5b5f4678833758da2013061d5",
     "grade": false,
     "grade_id": "cell-696f7a1faab60ca0",
     "locked": true,
     "schema_version": 3,
     "solution": false,
     "task": false
    }
   },
   "source": [
    "# DO NOT CREATE OR DELETE ANY CELLS\n",
    "## DO NOT CREATE OR DELETE ANY CELLS\n",
    "### DO NOT CREATE OR DELETE ANY CELLS\n",
    "#### DO NOT CREATE OR DELETE ANY CELLS"
   ]
  },
  {
   "cell_type": "markdown",
   "metadata": {
    "deletable": false,
    "editable": false,
    "nbgrader": {
     "cell_type": "markdown",
     "checksum": "9dee687068c0ea0620fdff0884a99b70",
     "grade": false,
     "grade_id": "cell-1f46e25026fc9f4f",
     "locked": true,
     "schema_version": 3,
     "solution": false,
     "task": false
    }
   },
   "source": [
    "# Objects and Data Structures Assessment Test"
   ]
  },
  {
   "cell_type": "markdown",
   "metadata": {
    "deletable": false,
    "editable": false,
    "nbgrader": {
     "cell_type": "markdown",
     "checksum": "32f41dfafb7c00aa8378c61fa2b2ad89",
     "grade": false,
     "grade_id": "cell-1f46e25026fc9fkf",
     "locked": true,
     "schema_version": 3,
     "solution": false,
     "task": false
    }
   },
   "source": [
    "#### I Strongly advise you take the questions and practice on a different notebook and then when you are certain you have to correct code bring it in here and paste in the approriate cell.\n",
    "\n",
    "### To answer the questions first delete this line `raise NotImplementedError()` and then write your code after the `#your code here` comment"
   ]
  },
  {
   "cell_type": "markdown",
   "metadata": {
    "deletable": false,
    "editable": false,
    "nbgrader": {
     "cell_type": "markdown",
     "checksum": "71563098e349812916531475edd82d47",
     "grade": false,
     "grade_id": "cell-4802e4d3f92fd529",
     "locked": true,
     "schema_version": 3,
     "solution": false,
     "task": false
    }
   },
   "source": [
    "## 1. Strings\n",
    "\n",
    "- Create a variable **s** and put the string  **hello world** in it, then extract every second letter and store it in a variable called **letter_sequence**.\n",
    "- Create a formatted string using **format** and **{}** and store it in variable called **greeting** such that If \"Jadesola\" is inserted as the name and \"25\" as the age, the result should be **Hello Jadesola, you are 25 years old**."
   ]
  },
  {
   "cell_type": "code",
   "execution_count": null,
   "metadata": {
    "deletable": false,
    "nbgrader": {
     "cell_type": "code",
     "checksum": "c22dccd75957dac20df33be194d42e3f",
     "grade": false,
     "grade_id": "cell-088358cd80c89256",
     "locked": false,
     "schema_version": 3,
     "solution": true,
     "task": false
    }
   },
   "outputs": [],
   "source": [
    "# YOUR CODE HERE\n",
    "s = \"hello world\"\n",
    "letter_sequence = s[::2]\n",
    "print(letter_sequence)\n",
    "\n",
    "name = \"Jadesola\"\n",
    "age = 25\n",
    "greeting = \"Hello {}, you are {} years old.\"\n",
    "print(greeting.format(\"Jadesola\", 25))"
   ]
  },
  {
   "cell_type": "code",
   "execution_count": null,
   "metadata": {
    "deletable": false,
    "editable": false,
    "nbgrader": {
     "cell_type": "code",
     "checksum": "cedd6ee109aa5fed19c1e2a9835e4178",
     "grade": true,
     "grade_id": "cell-8c64ce6723dba25f",
     "locked": true,
     "points": 2,
     "schema_version": 3,
     "solution": false,
     "task": false
    }
   },
   "outputs": [],
   "source": [
    "#do not modify this cell\n",
    "#do not modify this cell\n",
    "#do not modify this cell\n",
    "#do not modify this cell\n",
    "assert letter_sequence == \"hlowrd\"\n",
    "assert greeting.format(\"Jackson\", 25) == \"Hello Jackson, you are 25 years old\""
   ]
  },
  {
   "cell_type": "markdown",
   "metadata": {
    "deletable": false,
    "editable": false,
    "nbgrader": {
     "cell_type": "markdown",
     "checksum": "596e2150f82ea11d8189be65978c8b38",
     "grade": false,
     "grade_id": "cell-4fc9ee6996c27b45",
     "locked": true,
     "schema_version": 3,
     "solution": false,
     "task": false
    }
   },
   "source": [
    "## 2. Lists"
   ]
  },
  {
   "cell_type": "markdown",
   "metadata": {
    "deletable": false,
    "editable": false,
    "nbgrader": {
     "cell_type": "markdown",
     "checksum": "786407e5e47e82008414d765982c0e27",
     "grade": false,
     "grade_id": "cell-319b42893dcbcfec",
     "locked": true,
     "schema_version": 3,
     "solution": false,
     "task": false
    }
   },
   "source": [
    "- With a list defined like this `list3 = [1, 2, [3, 4, 'hello']]` modify it by:\n",
    "    - Changing \"hello\" to \"goodbye\".\n",
    "    - Append **100** to the list.\n",
    "    - Removing **2** from the list.\n",
    "    - Reverse the entire list.\n",
    "    - Store the final result in a variable called **modiFied**"
   ]
  },
  {
   "cell_type": "code",
   "execution_count": null,
   "metadata": {
    "deletable": false,
    "nbgrader": {
     "cell_type": "code",
     "checksum": "d6dcf586e46a3402c3c587e717ebdc50",
     "grade": false,
     "grade_id": "cell-fac327c594288b28",
     "locked": false,
     "schema_version": 3,
     "solution": true,
     "task": false
    }
   },
   "outputs": [],
   "source": [
    "list3 = [1, 2, [3, 4, 'hello']]\n",
    "# YOUR CODE HERE\n",
    "list3 = [1, 2, [3, 4, \"hello\"]]\n",
    "list3 [2] [2] = \"Goodbye\"\n",
    "list3.append(100)\n",
    "list3.remove(2)\n",
    "list3.reverse()\n",
    "modiFied = list3\n",
    "print(modiFied)"
   ]
  },
  {
   "cell_type": "code",
   "execution_count": null,
   "metadata": {
    "deletable": false,
    "editable": false,
    "nbgrader": {
     "cell_type": "code",
     "checksum": "76287ed7321ddcf37c6e1436481658fa",
     "grade": true,
     "grade_id": "cell-97260ca982a851e2",
     "locked": true,
     "points": 2,
     "schema_version": 3,
     "solution": false,
     "task": false
    }
   },
   "outputs": [],
   "source": [
    "#do not modify this cell\n",
    "#do not modify this cell\n",
    "#do not modify this cell\n",
    "#do not modify this cell\n",
    "assert modiFied == [\n",
    "    10 ** 2,  \n",
    "    [9/3, 16**0.5, \"good\" + \"bye\"], \n",
    "    2 - 1  \n",
    "]"
   ]
  },
  {
   "cell_type": "markdown",
   "metadata": {
    "deletable": false,
    "editable": false,
    "nbgrader": {
     "cell_type": "markdown",
     "checksum": "bd989e7cbd826a84c65c7f0a19f78b92",
     "grade": false,
     "grade_id": "cell-876e9f5707cdaef3",
     "locked": true,
     "schema_version": 3,
     "solution": false,
     "task": false
    }
   },
   "source": [
    "## 3. Dictionaries"
   ]
  },
  {
   "cell_type": "markdown",
   "metadata": {
    "deletable": false,
    "editable": false,
    "nbgrader": {
     "cell_type": "markdown",
     "checksum": "aab6670c0153aa4b6ff4e8c423fb88ce",
     "grade": false,
     "grade_id": "cell-50ad6798236dd237",
     "locked": true,
     "schema_version": 3,
     "solution": false,
     "task": false
    }
   },
   "source": [
    "Given the dictionary:\n",
    "`d = {\"k1\": [{\"nest_key\": [\"this is deep\", [\"hello\"]]}], \"age\": 30}`\n",
    "- Extract \"hello\" and store it in **dict_answer**.\n",
    "- Add a new key **name** with the value **Alice**.\n",
    "- Increase **age** by **5**."
   ]
  },
  {
   "cell_type": "code",
   "execution_count": null,
   "metadata": {
    "deletable": false,
    "nbgrader": {
     "cell_type": "code",
     "checksum": "c3b23f2df09a4388a7b512dd2922261b",
     "grade": false,
     "grade_id": "cell-ea72189458dfbb55",
     "locked": false,
     "schema_version": 3,
     "solution": true,
     "task": false
    }
   },
   "outputs": [],
   "source": [
    "d = {\"k1\": [{\"nest_key\": [\"this is deep\", [\"hello\"]]}], \"age\": 30}\n",
    "# YOUR CODE HERE\n",
    "dict_answer = d[\"k1\"][0][\"nest_key\"][1][0]\n",
    "d[\"name\"] = \"Alice\"\n",
    "d[\"age\"] = 35\n",
    "print(d)"
   ]
  },
  {
   "cell_type": "code",
   "execution_count": null,
   "metadata": {
    "deletable": false,
    "editable": false,
    "nbgrader": {
     "cell_type": "code",
     "checksum": "fa99d5761df9c759e97fd9463c56d2eb",
     "grade": true,
     "grade_id": "cell-92c0ac6f156e2a56",
     "locked": true,
     "points": 2,
     "schema_version": 3,
     "solution": false,
     "task": false
    }
   },
   "outputs": [],
   "source": [
    "#do not modify this cell\n",
    "#do not modify this cell\n",
    "#do not modify this cell\n",
    "#do not modify this cell\n",
    "assert dict_answer == \"hello\"\n",
    "assert d[\"name\"] == \"Alice\"\n",
    "assert d[\"age\"] == 35"
   ]
  },
  {
   "cell_type": "markdown",
   "metadata": {
    "deletable": false,
    "editable": false,
    "nbgrader": {
     "cell_type": "markdown",
     "checksum": "3467ec086e9ec3015a46312301a05486",
     "grade": false,
     "grade_id": "cell-68d5f7d60a663e40",
     "locked": true,
     "schema_version": 3,
     "solution": false,
     "task": false
    }
   },
   "source": [
    "## 4. Tuples"
   ]
  },
  {
   "cell_type": "markdown",
   "metadata": {
    "deletable": false,
    "editable": false,
    "nbgrader": {
     "cell_type": "markdown",
     "checksum": "e12a69501c1d6c3bce193343d30f40c8",
     "grade": false,
     "grade_id": "cell-6460688b27b7e495",
     "locked": true,
     "schema_version": 3,
     "solution": false,
     "task": false
    }
   },
   "source": [
    "- Create a tuple **my_tuple** with values (5, 15, 3).\n",
    "- Unpack it into three variables: a, b, c.\n",
    "- Concatenate my_tuple with (4, 5, 6) and store it in new_tuple."
   ]
  },
  {
   "cell_type": "code",
   "execution_count": null,
   "metadata": {
    "deletable": false,
    "nbgrader": {
     "cell_type": "code",
     "checksum": "c2409ac0f75c68522b674dfa2503cf18",
     "grade": false,
     "grade_id": "cell-e778568dc2022c81",
     "locked": false,
     "schema_version": 3,
     "solution": true,
     "task": false
    }
   },
   "outputs": [],
   "source": [
    "# YOUR CODE HERE\n",
    "my_tuple = (5, 15, 3)\n",
    "a, b, c = my_tuple\n",
    "new_tuple = my_tuple + (4, 5, 6)"
   ]
  },
  {
   "cell_type": "code",
   "execution_count": null,
   "metadata": {
    "deletable": false,
    "editable": false,
    "nbgrader": {
     "cell_type": "code",
     "checksum": "9834ab249e718ed3a64cf6235307dc9b",
     "grade": true,
     "grade_id": "cell-c84a7e6cfef7d56b",
     "locked": true,
     "points": 2,
     "schema_version": 3,
     "solution": false,
     "task": false
    }
   },
   "outputs": [],
   "source": [
    "#do not modify this cell\n",
    "#do not modify this cell\n",
    "#do not modify this cell\n",
    "#do not modify this cell\n",
    "assert a == 15/3 and b == 7+8 and c == 9**0.5"
   ]
  },
  {
   "cell_type": "markdown",
   "metadata": {
    "deletable": false,
    "editable": false,
    "nbgrader": {
     "cell_type": "markdown",
     "checksum": "9687fa4493dc705198c0debd5223ea8d",
     "grade": false,
     "grade_id": "cell-ff76ed2f1941d44b",
     "locked": true,
     "schema_version": 3,
     "solution": false,
     "task": false
    }
   },
   "source": [
    "## 5. Sets "
   ]
  },
  {
   "cell_type": "markdown",
   "metadata": {
    "deletable": false,
    "editable": false,
    "nbgrader": {
     "cell_type": "markdown",
     "checksum": "1e747385d1a064f17ca48f6add25a5e3",
     "grade": false,
     "grade_id": "cell-8b9e26ba4ccc8b1e",
     "locked": true,
     "schema_version": 3,
     "solution": false,
     "task": false
    }
   },
   "source": [
    "Use a set to find the unique values of the list below and assign it to a variable **unique_values**:"
   ]
  },
  {
   "cell_type": "code",
   "execution_count": null,
   "metadata": {
    "deletable": false,
    "nbgrader": {
     "cell_type": "code",
     "checksum": "ffc02c4eb41be66adc12e267b9ba0183",
     "grade": false,
     "grade_id": "cell-9f915e6b6eb8cd39",
     "locked": false,
     "schema_version": 3,
     "solution": true,
     "task": false
    }
   },
   "outputs": [],
   "source": [
    "list5 = [1,2,2,33,4,4,11,22,3,3,2]\n",
    "# YOUR CODE HERE\n",
    "unique_values = set(list5)\n",
    "print(unique_values)"
   ]
  },
  {
   "cell_type": "code",
   "execution_count": null,
   "metadata": {
    "deletable": false,
    "editable": false,
    "nbgrader": {
     "cell_type": "code",
     "checksum": "ff54787766e82986b4d7898679b37b7f",
     "grade": true,
     "grade_id": "cell-9c9f34983f081b5a",
     "locked": true,
     "points": 2,
     "schema_version": 3,
     "solution": false,
     "task": false
    }
   },
   "outputs": [],
   "source": [
    "#do not modify this cell\n",
    "#do not modify this cell\n",
    "#do not modify this cell\n",
    "#do not modify this cell\n",
    "assert unique_values ==  {1, 2, 3, 4, 11, 22, 33}"
   ]
  },
  {
   "cell_type": "markdown",
   "metadata": {
    "deletable": false,
    "editable": false,
    "nbgrader": {
     "cell_type": "markdown",
     "checksum": "d9ef453fb5acadfd7e6ce9c15cdf74ae",
     "grade": false,
     "grade_id": "cell-468482c852a782d8",
     "locked": true,
     "schema_version": 3,
     "solution": false,
     "task": false
    }
   },
   "source": [
    "## Great Job on your first assessment! "
   ]
  }
 ],
 "metadata": {
  "anaconda-cloud": {},
  "kernelspec": {
   "display_name": "Python 3 (ipykernel)",
   "language": "python",
   "name": "python3"
  },
  "language_info": {
   "codemirror_mode": {
    "name": "ipython",
    "version": 3
   },
   "file_extension": ".py",
   "mimetype": "text/x-python",
   "name": "python",
   "nbconvert_exporter": "python",
   "pygments_lexer": "ipython3",
   "version": "3.12.7"
  }
 },
 "nbformat": 4,
 "nbformat_minor": 4
}
